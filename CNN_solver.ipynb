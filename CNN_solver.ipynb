{
 "cells": [
  {
   "cell_type": "markdown",
   "metadata": {},
   "source": [
    "# CNN solver for the Minesweeper game"
   ]
  },
  {
   "cell_type": "markdown",
   "metadata": {},
   "source": [
    "In this notebook, we use a CNN as a DDQN to try to solve the Minesweeper game."
   ]
  },
  {
   "cell_type": "code",
   "execution_count": 1,
   "metadata": {},
   "outputs": [],
   "source": [
    "import collections\n",
    "import random\n",
    "\n",
    "import numpy as np\n",
    "import pandas as pd\n",
    "import matplotlib.pyplot as plt\n",
    "\n",
    "import torch\n",
    "import torch.nn as nn\n",
    "import torch.nn.functional as F\n",
    "from torch.optim.lr_scheduler import _LRScheduler\n",
    "\n",
    "from env import Minesweeper"
   ]
  },
  {
   "cell_type": "markdown",
   "metadata": {},
   "source": [
    "## Neural network definition"
   ]
  },
  {
   "cell_type": "markdown",
   "metadata": {},
   "source": [
    "We use a convolutional neural network that preserves the size of the 2D grid it receives as an input.\n",
    "The input is 9 grids which have the shape of the minesweeper grid and it outputs a single grid with the same size. The chosen action will be to uncover the tile with the maximum value in the output."
   ]
  },
  {
   "cell_type": "code",
   "execution_count": 2,
   "metadata": {},
   "outputs": [],
   "source": [
    "class CNN(nn.Module):\n",
    "    def __init__(self):\n",
    "        super(CNN, self).__init__()\n",
    "\n",
    "        self.layer1 = nn.Conv2d(9, 32, kernel_size=3, padding=1)\n",
    "        self.norm1 = nn.BatchNorm2d(32)\n",
    "        self.layer2 = nn.Conv2d(32, 64, kernel_size=3, padding=1)\n",
    "        self.norm2 = nn.BatchNorm2d(64)\n",
    "        self.layer3 = nn.Conv2d(64, 128, kernel_size=3, padding=1)\n",
    "        self.norm3 = nn.BatchNorm2d(128)\n",
    "        self.layer4 = nn.Conv2d(128, 64, kernel_size=5, padding=2)\n",
    "        self.norm4 = nn.BatchNorm2d(64)\n",
    "        self.layer5 = nn.Conv2d(64, 1, kernel_size=1, padding=0)\n",
    "\n",
    "        self.relu = F.relu\n",
    "\n",
    "    def forward(self, x):\n",
    "        x = self.relu(self.layer1(x))\n",
    "        x = self.norm1(x)\n",
    "        x = self.relu(self.layer2(x))\n",
    "        x = self.norm2(x)\n",
    "        x = self.relu(self.layer3(x))\n",
    "        x = self.norm3(x)\n",
    "        x = self.relu(self.layer4(x))\n",
    "        x = self.norm4(x)\n",
    "        x = self.layer5(x)\n",
    "        x = x.view(x.size(0), -1)\n",
    "        return x"
   ]
  },
  {
   "cell_type": "markdown",
   "metadata": {},
   "source": [
    "## Environnement wrapper"
   ]
  },
  {
   "cell_type": "markdown",
   "metadata": {},
   "source": [
    "We use the environnement defined in 'env.py' but we define a wrapper with several methods to have more analogies with the gymnasium environnements."
   ]
  },
  {
   "cell_type": "code",
   "execution_count": 3,
   "metadata": {},
   "outputs": [],
   "source": [
    "class MinesweeperEnvWrapper():\n",
    "    def __init__(self, difficulty=\"beginner\"):\n",
    "        self.env = Minesweeper(difficulty)\n",
    "        self.state = self.preprocess_state(self.env.O)\n",
    "        self.device = torch.device(\"cuda\" if torch.cuda.is_available() else \"cpu\")\n",
    "    \n",
    "    def reset(self):\n",
    "        self.env.reset()\n",
    "        self.state = self.preprocess_state(self.env.O)\n",
    "        return self.state\n",
    "    \n",
    "    def step(self, action):\n",
    "        status = self.env.take_action(action)   \n",
    "        self.state = self.preprocess_state(self.env.O)\n",
    "        next_state = self.state\n",
    "        done = bool(status)\n",
    "        reward = self.reward(status)\n",
    "        return next_state, reward, done\n",
    "    \n",
    "    def reward(self, status):\n",
    "        if status == 0:  # if the model uncovers a safe tile\n",
    "            return 1\n",
    "        elif status == 1:  # if the model uncovers a mine\n",
    "            return -50\n",
    "        elif status == 2:  # if the model wins\n",
    "            return 50\n",
    "        else:\n",
    "            raise ValueError(\"Invalid status\")\n",
    "    \n",
    "    def preprocess_state(self, observed_grid):\n",
    "        \"\"\"Transform the observed grid into a 9xheightxwidth array which will be used as input to the CNN.\n",
    "\n",
    "        Args:\n",
    "            observed_grid (np.ndarray): Observed minesweeper grid.\n",
    "\n",
    "        Returns:\n",
    "           np.ndarray: Array of shape (9, height, width) where each channel represents a different tile value.\n",
    "        \"\"\"\n",
    "        encoded_list = np.zeros((9, self.env.n_rows, self.env.n_cols))\n",
    "        test_value_list = [0, 1, 2, 3, 4, 5, 6, 7, 8]\n",
    "        for i in range(len(test_value_list)):\n",
    "            # When tile is test_value_list[i] we encode it as 1, otherwise 0.\n",
    "            encoded_list[i] = np.where(observed_grid == test_value_list[i], 1, 0)\n",
    "        return encoded_list"
   ]
  },
  {
   "cell_type": "markdown",
   "metadata": {},
   "source": [
    "## Policy definition"
   ]
  },
  {
   "cell_type": "markdown",
   "metadata": {},
   "source": [
    "During the training, we will use an epsilon-greedy policy, with an epsilon decay method."
   ]
  },
  {
   "cell_type": "code",
   "execution_count": 4,
   "metadata": {},
   "outputs": [],
   "source": [
    "class EpsilonGreedy:\n",
    "    def __init__(self, epsilon_start: float, epsilon_min: float, epsilon_decay:float, envWrapper: MinesweeperEnvWrapper, q_network: CNN):\n",
    "        self.epsilon = epsilon_start\n",
    "        self.epsilon_min = epsilon_min\n",
    "        self.epsilon_decay = epsilon_decay\n",
    "        self.envWrapper = envWrapper\n",
    "        self.q_network = q_network\n",
    "        self.device = self.envWrapper.device\n",
    "\n",
    "    def __call__(self, state: np.ndarray) -> np.int64:\n",
    "        # Only the actions corresponding to the unobserved tiles are valid\n",
    "        stacked_state = np.stack(state, axis=0)\n",
    "        no_ones = np.logical_not(np.any(stacked_state, axis=0))\n",
    "        valid_action_indexes = np.where(no_ones)\n",
    "        valid_actions_flattened = valid_action_indexes[0] * state.shape[1] + valid_action_indexes[1]\n",
    "\n",
    "        if np.random.rand() < self.epsilon:\n",
    "            action = np.random.choice(valid_actions_flattened)\n",
    "        else:\n",
    "            state_tensor = torch.tensor(state, dtype=torch.float32, device=self.device).unsqueeze(0)\n",
    "            q_values = self.q_network(state_tensor).detach().cpu().numpy().flatten()\n",
    "            invalid_actions = np.delete(np.arange(q_values.size), valid_actions_flattened)\n",
    "            q_values[invalid_actions] = -np.inf  # Set invalid actions to -inf\n",
    "            action = np.argmax(q_values)\n",
    "        return action\n",
    "\n",
    "    def decay_epsilon(self):\n",
    "        self.epsilon = max(self.epsilon_min, self.epsilon * self.epsilon_decay)"
   ]
  },
  {
   "cell_type": "markdown",
   "metadata": {},
   "source": [
    "## Learning rate decay"
   ]
  },
  {
   "cell_type": "markdown",
   "metadata": {},
   "source": [
    "We will also use a learning rate decay method."
   ]
  },
  {
   "cell_type": "code",
   "execution_count": 5,
   "metadata": {},
   "outputs": [],
   "source": [
    "class MinimumExponentialLR(torch.optim.lr_scheduler.ExponentialLR):\n",
    "    def __init__(self, optimizer: torch.optim.Optimizer, lr_decay: float, last_epoch: int = -1, min_lr: float = 1e-6):\n",
    "        self.min_lr = min_lr\n",
    "        super().__init__(optimizer, lr_decay, last_epoch=last_epoch)\n",
    "\n",
    "    def get_lr(self) -> list[float]:\n",
    "        return [max(base_lr * self.gamma ** self.last_epoch, self.min_lr) for base_lr in self.base_lrs]"
   ]
  },
  {
   "cell_type": "markdown",
   "metadata": {},
   "source": [
    "## Replay buffer"
   ]
  },
  {
   "cell_type": "markdown",
   "metadata": {},
   "source": [
    "The replay buffer will store all training data points and we will sample points from it to train the DDQN."
   ]
  },
  {
   "cell_type": "code",
   "execution_count": 6,
   "metadata": {},
   "outputs": [],
   "source": [
    "class ReplayBuffer:\n",
    "    def __init__(self, capacity: int):\n",
    "        self.buffer = collections.deque(maxlen=capacity)\n",
    "\n",
    "    def add(self, state, action, reward, next_state, done):\n",
    "        self.buffer.append((state, action, reward, next_state, done))\n",
    "\n",
    "    def sample(self, batch_size: int):\n",
    "        states, actions, rewards, next_states, dones = zip(*random.sample(self.buffer, batch_size))\n",
    "        return np.array(states), actions, rewards, np.array(next_states), dones\n",
    "\n",
    "    def __len__(self):\n",
    "        return len(self.buffer)"
   ]
  },
  {
   "cell_type": "markdown",
   "metadata": {},
   "source": [
    "## CNN Minesweeper solver"
   ]
  },
  {
   "cell_type": "code",
   "execution_count": 7,
   "metadata": {},
   "outputs": [],
   "source": [
    "class Solver():\n",
    "    def __init__(self, envWrapper: MinesweeperEnvWrapper, q_network: CNN, target_network: CNN):\n",
    "        \"\"\"Initialize the solver\n",
    "\n",
    "        Args:\n",
    "            envWrapper (MinesweeperEnvWrapper): Environment wrapper representing the Minesweeper game\n",
    "            q_network (CNN): CNN Network representing the Q-network\n",
    "            target_network (CNN): CNN Network representing the target network\n",
    "        \"\"\"\n",
    "        self.envWrapper = envWrapper\n",
    "        self.q_network = q_network\n",
    "        self.target_network = target_network\n",
    "        self.device = self.envWrapper.device\n",
    "\n",
    "    def test_agent(self, num_episodes: int = 1) -> list[int]:  \n",
    "        \"\"\"Test the agent for a given number of episodes\n",
    "\n",
    "        Args:\n",
    "            num_episodes (int, optional): Number of episodes to test the agent on. Defaults to 1.\n",
    "\n",
    "        Returns:\n",
    "            list[int]: List containing the total reward for each episode.\n",
    "        \"\"\"\n",
    "        episode_reward_list = []\n",
    "\n",
    "        for _ in range(num_episodes):\n",
    "            state = self.envWrapper.reset()\n",
    "            done = False\n",
    "            episode_reward = 0\n",
    "\n",
    "            while not done:\n",
    "                # Convert the state to a PyTorch tensor and add a batch dimension (unsqueeze)\n",
    "                state_tensor = torch.tensor(state, dtype=torch.float32, device=self.device).unsqueeze(0)\n",
    "                with torch.no_grad():\n",
    "                    q_values = self.q_network(state_tensor).detach().cpu().numpy().flatten()\n",
    "\n",
    "                stacked_state = np.stack(state, axis=0)\n",
    "                invalid_tiles = np.any(stacked_state, axis=0)\n",
    "                invalid_actions = np.where(invalid_tiles.flatten())[0]\n",
    "\n",
    "                q_values[invalid_actions] = -np.inf\n",
    "                action = np.argmax(q_values)  # Choose the action with the highest Q-value - greedy policy           \n",
    "                next_state, reward, done = self.envWrapper.step(action)               \n",
    "                state = next_state\n",
    "                episode_reward += reward\n",
    "\n",
    "            episode_reward_list.append(episode_reward)\n",
    "            print(f\"Episode reward: {episode_reward}\")\n",
    "\n",
    "        return episode_reward_list\n",
    "    \n",
    "    def train_agent(\n",
    "            self, \n",
    "            optimizer: torch.optim.Optimizer, \n",
    "            loss_fn: callable, \n",
    "            policy: EpsilonGreedy, \n",
    "            lr_scheduler: _LRScheduler, \n",
    "            num_episodes: int, \n",
    "            gamma: float, \n",
    "            replay_buffer: ReplayBuffer,\n",
    "            target_network_sync_period: int,\n",
    "            print_every: int,\n",
    "            batch_size: int\n",
    "    ) -> tuple[list[float]]:\n",
    "        \"\"\"Training loop for the agent\n",
    "\n",
    "        Args:\n",
    "            optimizer (torch.optim.Optimizer): Optimizer used to update the Q-network\n",
    "            loss_fn (callable): Loss function\n",
    "            policy (EpsilonGreedy): Policy used to select actions\n",
    "            lr_scheduler (_LRScheduler): Learning rate scheduler\n",
    "            num_episodes (int): Number of episodes to train the agent on\n",
    "            gamma (float): Discount factor\n",
    "            replay_buffer (ReplayBuffer): Replay buffer used to store the transitions\n",
    "            target_network_sync_period (int): Number of episodes after which the target network is updated\n",
    "            print_every (int): Number of episodes after which the mean reward and loss are printed\n",
    "            batch_size (int): Batch size used to update the Q-network\n",
    "\n",
    "        Returns:\n",
    "            tuple[list[float]]: Tuple containing the episode reward list and the episode loss list\n",
    "        \"\"\"\n",
    "        episode_reward_list = []\n",
    "        episode_loss_list = []\n",
    "        mean_reward = 0\n",
    "        mean_loss = 0\n",
    "\n",
    "        for i in range(1, num_episodes):\n",
    "            state = self.envWrapper.reset()\n",
    "            episode_reward = 0\n",
    "            episode_loss = 0\n",
    "            time_episode = 0\n",
    "            done = False\n",
    "\n",
    "            while not done:\n",
    "                time_episode += 1\n",
    "                action = policy(state)\n",
    "                next_state, reward, done = self.envWrapper.step(action)\n",
    "                episode_reward += reward\n",
    "\n",
    "                replay_buffer.add(state, action, reward, next_state, done)\n",
    "                state = next_state\n",
    "\n",
    "            if len(replay_buffer) >= 10 * batch_size:  # Start training after the replay buffer has been filled with enough samples\n",
    "                replayed_states, replayed_actions, replayed_rewards, replayed_next_states, replayed_dones = replay_buffer.sample(batch_size)\n",
    "                \n",
    "                replayed_states_tensor = torch.tensor(replayed_states, dtype=torch.float32, device=self.device)\n",
    "                replayed_actions_tensor = torch.tensor(replayed_actions, dtype=torch.int64, device=self.device)\n",
    "                replayed_rewards_tensor = torch.tensor(replayed_rewards, dtype=torch.float32, device=self.device)\n",
    "                replayed_next_states_tensor = torch.tensor(replayed_next_states, dtype=torch.float32, device=self.device)\n",
    "                replayed_dones_tensor = torch.tensor(replayed_dones, dtype=torch.float32, device=self.device)\n",
    "\n",
    "                with torch.no_grad():\n",
    "                    replayed_next_q_values = self.target_network(replayed_next_states_tensor)  # Use the target network to compute the next Q-values\n",
    "                replayed_targets = replayed_rewards_tensor + (1-replayed_dones_tensor) * gamma * torch.max(replayed_next_q_values, dim=1).values\n",
    "                replayed_q_values = self.q_network(replayed_states_tensor)  # Compute the Q-values for the replayed states with the Q-network\n",
    "\n",
    "                replayed_actions_indices = replayed_actions_tensor.view(-1, 1)\n",
    "                result = torch.gather(replayed_q_values, 1, replayed_actions_indices).squeeze(1)\n",
    "\n",
    "                loss = loss_fn(result, replayed_targets)\n",
    "                episode_loss += loss.item()\n",
    "\n",
    "                optimizer.zero_grad()\n",
    "                loss.backward()\n",
    "                optimizer.step()\n",
    "                lr_scheduler.step()\n",
    "                \n",
    "            \n",
    "                mean_loss += loss.item() / print_every\n",
    "            mean_reward += episode_reward / print_every\n",
    "            \n",
    "            if i % target_network_sync_period == 0:\n",
    "                self.target_network.load_state_dict(self.q_network.state_dict())\n",
    "\n",
    "            if i % print_every == 0:\n",
    "                print(f\"Episode: {i}, Mean reward: {mean_reward}, Epsilon: {policy.epsilon}, LR: {lr_scheduler.get_lr()[0]}, Mean loss: {mean_loss}\")\n",
    "                mean_reward = 0\n",
    "                mean_loss = 0\n",
    "            \n",
    "            episode_reward_list.append(episode_reward)\n",
    "            episode_loss_list.append(episode_loss / time_episode)\n",
    "            policy.decay_epsilon()\n",
    "\n",
    "        return episode_reward_list, episode_loss_list"
   ]
  },
  {
   "cell_type": "markdown",
   "metadata": {},
   "source": [
    "## Training and testing of the agent"
   ]
  },
  {
   "cell_type": "code",
   "execution_count": 8,
   "metadata": {},
   "outputs": [],
   "source": [
    "envWrapper = MinesweeperEnvWrapper(difficulty=\"beginner\")\n",
    "q_network = CNN().to(envWrapper.device)\n",
    "target_network = CNN().to(envWrapper.device)\n",
    "\n",
    "optimizer = torch.optim.Adam(q_network.parameters(), lr=0.001)\n",
    "loss_fn = nn.MSELoss()\n",
    "\n",
    "epsilon_greedy = EpsilonGreedy(epsilon_start=0.9, epsilon_min=0.05, epsilon_decay=0.999, envWrapper=envWrapper, q_network=q_network)\n",
    "lr_scheduler = MinimumExponentialLR(optimizer, lr_decay=0.9999, min_lr=1e-6)\n",
    "buffer = ReplayBuffer(capacity=10000)\n",
    "\n",
    "solver = Solver(envWrapper, q_network, target_network)"
   ]
  },
  {
   "cell_type": "markdown",
   "metadata": {},
   "source": [
    "We train our network."
   ]
  },
  {
   "cell_type": "code",
   "execution_count": 9,
   "metadata": {},
   "outputs": [
    {
     "name": "stdout",
     "output_type": "stream",
     "text": [
      "Episode: 500, Mean reward: -44.30799999999997, Epsilon: 0.5462873377127788, LR: 0.0009657968760541502, Mean loss: 144.550839126587\n",
      "Episode: 1000, Mean reward: -44.108000000000004, Epsilon: 0.3312571394333005, LR: 0.0009186921097073094, Mean loss: 258.5647504882812\n",
      "Episode: 1500, Mean reward: -43.91399999999994, Epsilon: 0.20086735468729922, LR: 0.0008738847819498909, Mean loss: 386.56971987915057\n",
      "Episode: 2000, Mean reward: -44.29800000000005, Epsilon: 0.12180173459234177, LR: 0.0008312628399158793, Mean loss: 567.5261621093752\n",
      "Episode: 2500, Mean reward: -42.454000000000015, Epsilon: 0.07385800730436627, LR: 0.0007907196958885078, Mean loss: 704.9810660705568\n",
      "Episode: 3000, Mean reward: -42.67600000000009, Epsilon: 0.05, LR: 0.0007521539607487879, Mean loss: 872.305662109376\n",
      "Episode: 3500, Mean reward: -40.120000000000054, Epsilon: 0.05, LR: 0.0007154691904245402, Mean loss: 879.8418031005863\n",
      "Episode: 4000, Mean reward: -37.626000000000026, Epsilon: 0.05, LR: 0.0006805736447058546, Mean loss: 838.7109960327153\n",
      "Episode: 4500, Mean reward: -36.12800000000003, Epsilon: 0.05, LR: 0.0006473800578238344, Mean loss: 753.1539252929695\n",
      "Episode: 5000, Mean reward: -33.69199999999999, Epsilon: 0.05, LR: 0.0006158054202188912, Mean loss: 750.6231056213385\n",
      "Episode: 5500, Mean reward: -33.69800000000006, Epsilon: 0.05, LR: 0.0005857707709528455, Mean loss: 771.5183196716307\n",
      "Episode: 6000, Mean reward: -33.76000000000001, Epsilon: 0.05, LR: 0.0005572010002457019, Mean loss: 924.9618465881358\n",
      "Episode: 6500, Mean reward: -34.09000000000006, Epsilon: 0.05, LR: 0.0005300246616432895, Mean loss: 1022.0339002990719\n",
      "Episode: 7000, Mean reward: -33.48400000000005, Epsilon: 0.05, LR: 0.0005041737933460404, Mean loss: 1311.4393582458492\n",
      "Episode: 7500, Mean reward: -31.683999999999976, Epsilon: 0.05, LR: 0.0004795837482520923, Mean loss: 1456.4539280700687\n",
      "Episode: 8000, Mean reward: -33.592000000000006, Epsilon: 0.05, LR: 0.0004561930322896912, Mean loss: 1685.563059875489\n",
      "Episode: 8500, Mean reward: -32.32800000000001, Epsilon: 0.05, LR: 0.0004339431506345988, Mean loss: 2006.9089486083978\n",
      "Episode: 9000, Mean reward: -34.35000000000002, Epsilon: 0.05, LR: 0.0004127784614279331, Mean loss: 2352.5141010742186\n",
      "Episode: 9500, Mean reward: -35.78400000000003, Epsilon: 0.05, LR: 0.00039264603662862046, Mean loss: 2949.9915067138695\n"
     ]
    }
   ],
   "source": [
    "episode_reward_list, episode_loss_list = solver.train_agent(\n",
    "    optimizer=optimizer, \n",
    "    loss_fn=loss_fn, \n",
    "    policy=epsilon_greedy, \n",
    "    lr_scheduler=lr_scheduler, \n",
    "    num_episodes=10000, \n",
    "    gamma=0.99, \n",
    "    replay_buffer=buffer, \n",
    "    print_every=500, \n",
    "    target_network_sync_period=250,\n",
    "    batch_size=100\n",
    ")"
   ]
  },
  {
   "cell_type": "markdown",
   "metadata": {},
   "source": [
    "We test the agent on several episodes."
   ]
  },
  {
   "cell_type": "code",
   "execution_count": 10,
   "metadata": {},
   "outputs": [
    {
     "name": "stdout",
     "output_type": "stream",
     "text": [
      "Episode reward: -41\n",
      "Episode reward: -21\n",
      "Episode reward: -41\n",
      "Episode reward: -42\n",
      "Episode reward: -35\n",
      "Episode reward: -22\n",
      "Episode reward: -30\n",
      "Episode reward: -37\n",
      "Episode reward: -20\n",
      "Episode reward: -50\n",
      "Mean reward: -33.9\n"
     ]
    }
   ],
   "source": [
    "lst = solver.test_agent(num_episodes=10)\n",
    "print(f\"Mean reward: {np.mean(lst)}\")"
   ]
  },
  {
   "cell_type": "markdown",
   "metadata": {},
   "source": [
    "We plot the mean reward w.r.t. the episode, using a smoothed plot."
   ]
  },
  {
   "cell_type": "code",
   "execution_count": 11,
   "metadata": {},
   "outputs": [
    {
     "data": {
      "image/png": "[encoded data removed]",
      "text/plain": [
       "<Figure size 640x480 with 1 Axes>"
      ]
     },
     "metadata": {},
     "output_type": "display_data"
    }
   ],
   "source": [
    "rewards_df = pd.DataFrame(episode_reward_list, columns=['Reward'])\n",
    "N = 100\n",
    "smoothed_rewards = rewards_df.rolling(window=N, min_periods=1).mean()\n",
    "\n",
    "plt.plot(smoothed_rewards)\n",
    "plt.title('Training reward')\n",
    "plt.xlabel('Episode')\n",
    "plt.ylabel('Reward')\n",
    "plt.show()"
   ]
  },
  {
   "cell_type": "markdown",
   "metadata": {},
   "source": [
    "We can see that for the first 5,000 episodes, the model successfully trains and its performance improves. After that, its performance decreases: the loss greatly increases, and the mean reward plateaus.\n",
    "\n",
    "In the future, we will refine the neural network architecture and tune the hyperparameters to improve the agent and allow it to successfully win the Minesweeper game."
   ]
  }
 ],
 "metadata": {
  "kernelspec": {
   "display_name": "Python 3",
   "language": "python",
   "name": "python3"
  },
  "language_info": {
   "codemirror_mode": {
    "name": "ipython",
    "version": 3
   },
   "file_extension": ".py",
   "mimetype": "text/x-python",
   "name": "python",
   "nbconvert_exporter": "python",
   "pygments_lexer": "ipython3",
   "version": "3.11.7"
  }
 },
 "nbformat": 4,
 "nbformat_minor": 2
}
